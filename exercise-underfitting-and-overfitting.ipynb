{
 "cells": [
  {
   "cell_type": "markdown",
   "id": "151ec9a8",
   "metadata": {
    "papermill": {
     "duration": 0.004689,
     "end_time": "2022-10-12T20:41:00.532746",
     "exception": false,
     "start_time": "2022-10-12T20:41:00.528057",
     "status": "completed"
    },
    "tags": []
   },
   "source": [
    "**This notebook is an exercise in the [Introduction to Machine Learning](https://www.kaggle.com/learn/intro-to-machine-learning) course.  You can reference the tutorial at [this link](https://www.kaggle.com/dansbecker/underfitting-and-overfitting).**\n",
    "\n",
    "---\n"
   ]
  },
  {
   "cell_type": "markdown",
   "id": "2e503b4b",
   "metadata": {
    "papermill": {
     "duration": 0.003142,
     "end_time": "2022-10-12T20:41:00.539716",
     "exception": false,
     "start_time": "2022-10-12T20:41:00.536574",
     "status": "completed"
    },
    "tags": []
   },
   "source": [
    "## Recap\n",
    "You've built your first model, and now it's time to optimize the size of the tree to make better predictions. Run this cell to set up your coding environment where the previous step left off."
   ]
  },
  {
   "cell_type": "code",
   "execution_count": 1,
   "id": "4fff5de7",
   "metadata": {
    "execution": {
     "iopub.execute_input": "2022-10-12T20:41:00.548561Z",
     "iopub.status.busy": "2022-10-12T20:41:00.548104Z",
     "iopub.status.idle": "2022-10-12T20:41:01.944737Z",
     "shell.execute_reply": "2022-10-12T20:41:01.943438Z"
    },
    "papermill": {
     "duration": 1.404191,
     "end_time": "2022-10-12T20:41:01.947517",
     "exception": false,
     "start_time": "2022-10-12T20:41:00.543326",
     "status": "completed"
    },
    "tags": []
   },
   "outputs": [
    {
     "name": "stdout",
     "output_type": "stream",
     "text": [
      "Validation MAE: 29,653\n",
      "\n",
      "Setup complete\n"
     ]
    }
   ],
   "source": [
    "# Code you have previously used to load data\n",
    "import pandas as pd\n",
    "from sklearn.metrics import mean_absolute_error\n",
    "from sklearn.model_selection import train_test_split\n",
    "from sklearn.tree import DecisionTreeRegressor\n",
    "\n",
    "\n",
    "# Path of the file to read\n",
    "iowa_file_path = '../input/home-data-for-ml-course/train.csv'\n",
    "\n",
    "home_data = pd.read_csv(iowa_file_path)\n",
    "# Create target object and call it y\n",
    "y = home_data.SalePrice\n",
    "# Create X\n",
    "features = ['LotArea', 'YearBuilt', '1stFlrSF', '2ndFlrSF', 'FullBath', 'BedroomAbvGr', 'TotRmsAbvGrd']\n",
    "X = home_data[features]\n",
    "\n",
    "# Split into validation and training data\n",
    "train_X, val_X, train_y, val_y = train_test_split(X, y, random_state=1)\n",
    "\n",
    "# Specify Model\n",
    "iowa_model = DecisionTreeRegressor(random_state=1)\n",
    "# Fit Model\n",
    "iowa_model.fit(train_X, train_y)\n",
    "\n",
    "# Make validation predictions and calculate mean absolute error\n",
    "val_predictions = iowa_model.predict(val_X)\n",
    "val_mae = mean_absolute_error(val_predictions, val_y)\n",
    "print(\"Validation MAE: {:,.0f}\".format(val_mae))\n",
    "\n",
    "# Set up code checking\n",
    "from learntools.core import binder\n",
    "binder.bind(globals())\n",
    "from learntools.machine_learning.ex5 import *\n",
    "print(\"\\nSetup complete\")"
   ]
  },
  {
   "cell_type": "markdown",
   "id": "a2cc8947",
   "metadata": {
    "papermill": {
     "duration": 0.003276,
     "end_time": "2022-10-12T20:41:01.954631",
     "exception": false,
     "start_time": "2022-10-12T20:41:01.951355",
     "status": "completed"
    },
    "tags": []
   },
   "source": [
    "# Exercises\n",
    "You could write the function `get_mae` yourself. For now, we'll supply it. This is the same function you read about in the previous lesson. Just run the cell below."
   ]
  },
  {
   "cell_type": "code",
   "execution_count": 2,
   "id": "c4c49fe2",
   "metadata": {
    "execution": {
     "iopub.execute_input": "2022-10-12T20:41:01.963748Z",
     "iopub.status.busy": "2022-10-12T20:41:01.963033Z",
     "iopub.status.idle": "2022-10-12T20:41:01.969156Z",
     "shell.execute_reply": "2022-10-12T20:41:01.968304Z"
    },
    "papermill": {
     "duration": 0.013331,
     "end_time": "2022-10-12T20:41:01.971422",
     "exception": false,
     "start_time": "2022-10-12T20:41:01.958091",
     "status": "completed"
    },
    "tags": []
   },
   "outputs": [],
   "source": [
    "def get_mae(max_leaf_nodes, train_X, val_X, train_y, val_y):\n",
    "    model = DecisionTreeRegressor(max_leaf_nodes=max_leaf_nodes, random_state=0)\n",
    "    model.fit(train_X, train_y)\n",
    "    preds_val = model.predict(val_X)\n",
    "    mae = mean_absolute_error(val_y, preds_val)\n",
    "    return(mae)"
   ]
  },
  {
   "cell_type": "markdown",
   "id": "9cd18540",
   "metadata": {
    "papermill": {
     "duration": 0.003261,
     "end_time": "2022-10-12T20:41:01.978276",
     "exception": false,
     "start_time": "2022-10-12T20:41:01.975015",
     "status": "completed"
    },
    "tags": []
   },
   "source": [
    "## Step 1: Compare Different Tree Sizes\n",
    "Write a loop that tries the following values for *max_leaf_nodes* from a set of possible values.\n",
    "\n",
    "Call the *get_mae* function on each value of max_leaf_nodes. Store the output in some way that allows you to select the value of `max_leaf_nodes` that gives the most accurate model on your data."
   ]
  },
  {
   "cell_type": "code",
   "execution_count": 3,
   "id": "2922e0e2",
   "metadata": {
    "execution": {
     "iopub.execute_input": "2022-10-12T20:41:01.987195Z",
     "iopub.status.busy": "2022-10-12T20:41:01.986759Z",
     "iopub.status.idle": "2022-10-12T20:41:02.038046Z",
     "shell.execute_reply": "2022-10-12T20:41:02.036911Z"
    },
    "papermill": {
     "duration": 0.058738,
     "end_time": "2022-10-12T20:41:02.040522",
     "exception": false,
     "start_time": "2022-10-12T20:41:01.981784",
     "status": "completed"
    },
    "tags": []
   },
   "outputs": [
    {
     "name": "stdout",
     "output_type": "stream",
     "text": [
      "Max leaf nodes: 5  \t\t Mean Absolute Error:  35044\n",
      "Max leaf nodes: 25  \t\t Mean Absolute Error:  29016\n",
      "Max leaf nodes: 50  \t\t Mean Absolute Error:  27405\n",
      "Max leaf nodes: 100  \t\t Mean Absolute Error:  27282\n",
      "Max leaf nodes: 250  \t\t Mean Absolute Error:  27893\n",
      "Max leaf nodes: 500  \t\t Mean Absolute Error:  29454\n"
     ]
    },
    {
     "data": {
      "application/javascript": [
       "parent.postMessage({\"jupyterEvent\": \"custom.exercise_interaction\", \"data\": {\"outcomeType\": 1, \"valueTowardsCompletion\": 0.5, \"interactionType\": 1, \"questionType\": 1, \"questionId\": \"1_BestTreeSize\", \"learnToolsVersion\": \"0.3.4\", \"failureMessage\": \"\", \"exceptionClass\": \"\", \"trace\": \"\"}}, \"*\")"
      ],
      "text/plain": [
       "<IPython.core.display.Javascript object>"
      ]
     },
     "metadata": {},
     "output_type": "display_data"
    },
    {
     "data": {
      "text/markdown": [
       "<span style=\"color:#33cc33\">Correct</span>"
      ],
      "text/plain": [
       "Correct"
      ]
     },
     "metadata": {},
     "output_type": "display_data"
    }
   ],
   "source": [
    "candidate_max_leaf_nodes = [5, 25, 50, 100, 250, 500]\n",
    "# Write loop to find the ideal tree size from candidate_max_leaf_nodes\n",
    "for max_leaf_nodes in [5, 25, 50, 100, 250, 500]:\n",
    "    my_mae = get_mae(max_leaf_nodes, train_X, val_X, train_y, val_y)\n",
    "    print(\"Max leaf nodes: %d  \\t\\t Mean Absolute Error:  %d\" %(max_leaf_nodes, my_mae))\n",
    "\n",
    "# Store the best value of max_leaf_nodes (it will be either 5, 25, 50, 100, 250 or 500)\n",
    "best_tree_size = 100\n",
    "\n",
    "# Check your answer\n",
    "step_1.check()"
   ]
  },
  {
   "cell_type": "code",
   "execution_count": 4,
   "id": "5908cb6c",
   "metadata": {
    "execution": {
     "iopub.execute_input": "2022-10-12T20:41:02.050013Z",
     "iopub.status.busy": "2022-10-12T20:41:02.049633Z",
     "iopub.status.idle": "2022-10-12T20:41:02.053879Z",
     "shell.execute_reply": "2022-10-12T20:41:02.052639Z"
    },
    "papermill": {
     "duration": 0.011807,
     "end_time": "2022-10-12T20:41:02.056218",
     "exception": false,
     "start_time": "2022-10-12T20:41:02.044411",
     "status": "completed"
    },
    "tags": []
   },
   "outputs": [],
   "source": [
    "# The lines below will show you a hint or the solution.\n",
    "# step_1.hint() \n",
    "# step_1.solution()"
   ]
  },
  {
   "cell_type": "markdown",
   "id": "89936b20",
   "metadata": {
    "papermill": {
     "duration": 0.00367,
     "end_time": "2022-10-12T20:41:02.063940",
     "exception": false,
     "start_time": "2022-10-12T20:41:02.060270",
     "status": "completed"
    },
    "tags": []
   },
   "source": [
    "## Step 2: Fit Model Using All Data\n",
    "You know the best tree size. If you were going to deploy this model in practice, you would make it even more accurate by using all of the data and keeping that tree size.  That is, you don't need to hold out the validation data now that you've made all your modeling decisions."
   ]
  },
  {
   "cell_type": "code",
   "execution_count": 5,
   "id": "7fd6d395",
   "metadata": {
    "execution": {
     "iopub.execute_input": "2022-10-12T20:41:02.074001Z",
     "iopub.status.busy": "2022-10-12T20:41:02.073603Z",
     "iopub.status.idle": "2022-10-12T20:41:02.092884Z",
     "shell.execute_reply": "2022-10-12T20:41:02.092063Z"
    },
    "papermill": {
     "duration": 0.027544,
     "end_time": "2022-10-12T20:41:02.095321",
     "exception": false,
     "start_time": "2022-10-12T20:41:02.067777",
     "status": "completed"
    },
    "tags": []
   },
   "outputs": [
    {
     "data": {
      "application/javascript": [
       "parent.postMessage({\"jupyterEvent\": \"custom.exercise_interaction\", \"data\": {\"outcomeType\": 1, \"valueTowardsCompletion\": 0.5, \"interactionType\": 1, \"questionType\": 2, \"questionId\": \"2_FitModelWithAllData\", \"learnToolsVersion\": \"0.3.4\", \"failureMessage\": \"\", \"exceptionClass\": \"\", \"trace\": \"\"}}, \"*\")"
      ],
      "text/plain": [
       "<IPython.core.display.Javascript object>"
      ]
     },
     "metadata": {},
     "output_type": "display_data"
    },
    {
     "data": {
      "text/markdown": [
       "<span style=\"color:#33cc33\">Correct</span>"
      ],
      "text/plain": [
       "Correct"
      ]
     },
     "metadata": {},
     "output_type": "display_data"
    }
   ],
   "source": [
    "# Fill in argument to make optimal size and uncomment\n",
    "final_model = DecisionTreeRegressor(max_leaf_nodes=best_tree_size, random_state=1)\n",
    "\n",
    "# fit the final model and uncomment the next two lines\n",
    "final_model.fit(X,y)\n",
    "\n",
    "# Check your answer\n",
    "step_2.check()"
   ]
  },
  {
   "cell_type": "code",
   "execution_count": 6,
   "id": "ece502d1",
   "metadata": {
    "execution": {
     "iopub.execute_input": "2022-10-12T20:41:02.105721Z",
     "iopub.status.busy": "2022-10-12T20:41:02.104620Z",
     "iopub.status.idle": "2022-10-12T20:41:02.109510Z",
     "shell.execute_reply": "2022-10-12T20:41:02.108610Z"
    },
    "papermill": {
     "duration": 0.012278,
     "end_time": "2022-10-12T20:41:02.111722",
     "exception": false,
     "start_time": "2022-10-12T20:41:02.099444",
     "status": "completed"
    },
    "tags": []
   },
   "outputs": [],
   "source": [
    "#step_2.hint()\n",
    "#step_2.solution()"
   ]
  },
  {
   "cell_type": "markdown",
   "id": "fc94230a",
   "metadata": {
    "papermill": {
     "duration": 0.003719,
     "end_time": "2022-10-12T20:41:02.119694",
     "exception": false,
     "start_time": "2022-10-12T20:41:02.115975",
     "status": "completed"
    },
    "tags": []
   },
   "source": [
    "You've tuned this model and improved your results. But we are still using Decision Tree models, which are not very sophisticated by modern machine learning standards. In the next step you will learn to use Random Forests to improve your models even more.\n",
    "\n",
    "# Keep Going\n",
    "\n",
    "You are ready for **[Random Forests](https://www.kaggle.com/dansbecker/random-forests).**\n"
   ]
  },
  {
   "cell_type": "markdown",
   "id": "70764fee",
   "metadata": {
    "papermill": {
     "duration": 0.003645,
     "end_time": "2022-10-12T20:41:02.127243",
     "exception": false,
     "start_time": "2022-10-12T20:41:02.123598",
     "status": "completed"
    },
    "tags": []
   },
   "source": [
    "---\n",
    "\n",
    "\n",
    "\n",
    "\n",
    "*Have questions or comments? Visit the [course discussion forum](https://www.kaggle.com/learn/intro-to-machine-learning/discussion) to chat with other learners.*"
   ]
  }
 ],
 "metadata": {
  "kernelspec": {
   "display_name": "Python 3",
   "language": "python",
   "name": "python3"
  },
  "language_info": {
   "codemirror_mode": {
    "name": "ipython",
    "version": 3
   },
   "file_extension": ".py",
   "mimetype": "text/x-python",
   "name": "python",
   "nbconvert_exporter": "python",
   "pygments_lexer": "ipython3",
   "version": "3.7.12"
  },
  "papermill": {
   "default_parameters": {},
   "duration": 11.377776,
   "end_time": "2022-10-12T20:41:02.852357",
   "environment_variables": {},
   "exception": null,
   "input_path": "__notebook__.ipynb",
   "output_path": "__notebook__.ipynb",
   "parameters": {},
   "start_time": "2022-10-12T20:40:51.474581",
   "version": "2.3.4"
  }
 },
 "nbformat": 4,
 "nbformat_minor": 5
}
